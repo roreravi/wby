{
 "cells": [
  {
   "cell_type": "code",
   "execution_count": null,
   "metadata": {},
   "outputs": [],
   "source": [
    "import pandas as pd"
   ]
  },
  {
   "cell_type": "code",
   "execution_count": null,
   "metadata": {},
   "outputs": [],
   "source": [
    "ruta="
   ]
  },
  {
   "cell_type": "code",
   "execution_count": null,
   "metadata": {},
   "outputs": [],
   "source": [
    "df=pd.read_csv('/Users/josetoledo/Desktop/webookyou/Productividad-06-22.csv', delimiter=';')"
   ]
  },
  {
   "cell_type": "code",
   "execution_count": null,
   "metadata": {},
   "outputs": [],
   "source": [
    "venta=[\"IDCliente\",\"IDOficina\",\"IDMoneda\",\"TipoCambioDoc\",\"IDEstatus\",\"IDProveedor\",\"IDPasajero\",\"IDTipoProv\",\"IDTipServ\",\"IDDepto\",\"DocSolicitadoPor\",\"Boleto\",\"BoletoConjunto\",\"IntNal\",\"Tarifa\",\"Impuestos\",\"OtrosImpuestos\",\"NumeroTarjeta\",\"DKDoc\",\"DKDoc\"]\n",
    "# Creating the boolean mask\n",
    "booleanMask = df.columns.isin(venta)\n",
    " \n",
    "# saving the selected columns \n",
    "selectedCols = df.columns[booleanMask]\n",
    " \n",
    "# selecting the desired columns\n",
    "df_venta=df[venta]"
   ]
  },
  {
   "cell_type": "code",
   "execution_count": null,
   "metadata": {},
   "outputs": [],
   "source": []
  }
 ],
 "metadata": {
  "kernelspec": {
   "display_name": "Python 3.10.8 64-bit",
   "language": "python",
   "name": "python3"
  },
  "language_info": {
   "name": "python",
   "version": "3.10.8"
  },
  "orig_nbformat": 4,
  "vscode": {
   "interpreter": {
    "hash": "aee8b7b246df8f9039afb4144a1f6fd8d2ca17a180786b69acc140d282b71a49"
   }
  }
 },
 "nbformat": 4,
 "nbformat_minor": 2
}
